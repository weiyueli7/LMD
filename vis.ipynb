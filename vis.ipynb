{
 "cells": [
  {
   "cell_type": "code",
   "execution_count": null,
   "metadata": {},
   "outputs": [],
   "source": [
    "import matplotlib.pyplot as plt\n",
    "import numpy as np\n",
    "\n",
    "# Data\n",
    "versions = ['v0.1', 'v0.4', 'v0.1 new metric', 'v0.4 new metric']\n",
    "overall_spatial_accuracy = [0.7665, 0.7901, 0.6955, 0.7113]\n",
    "objects_count = np.arange(3, 10)\n",
    "\n",
    "# Spatial Accuracy for different object counts\n",
    "spatial_accuracy = {\n",
    "    'v0.1': [0.85, 0.8533, 0.81, 0.804, 0.7633, 0.7286, 0.6875],\n",
    "    'v0.4': [0.84, 0.8933, 0.83, 0.844, 0.7767, 0.7143, 0.7425],\n",
    "    'v0.1 new metric': [0.81, 0.8333, 0.72, 0.716, 0.6833, 0.6286, 0.6125],\n",
    "    'v0.4 new metric': [0.84, 0.86, 0.76, 0.72, 0.6433, 0.6314, 0.6425]\n",
    "}\n",
    "\n",
    "fig, ax = plt.subplots(2, 1, figsize=(10, 12))\n",
    "\n",
    "# Overall Spatial Accuracy Bar Plot\n",
    "ax[0].bar(versions, overall_spatial_accuracy, color=['blue', 'green', 'red', 'purple'])\n",
    "ax[0].set_title('Overall Spatial Accuracy by Version')\n",
    "ax[0].set_ylabel('Spatial Accuracy')\n",
    "ax[0].set_ylim(0.65, 0.8)\n",
    "\n",
    "# Spatial Accuracy by Number of Objects Line Plot\n",
    "colors = ['blue', 'green', 'red', 'purple']\n",
    "for i, version in enumerate(versions):\n",
    "    ax[1].plot(objects_count, spatial_accuracy[version], '-o', label=version, color=colors[i])\n",
    "\n",
    "ax[1].set_title('Spatial Accuracy for Different Number of Objects')\n",
    "ax[1].set_xlabel('Number of Objects')\n",
    "ax[1].set_ylabel('Spatial Accuracy')\n",
    "ax[1].legend()\n",
    "\n",
    "plt.tight_layout()\n",
    "plt.show()\n"
   ]
  },
  {
   "cell_type": "code",
   "execution_count": null,
   "metadata": {},
   "outputs": [],
   "source": []
  }
 ],
 "metadata": {
  "kernelspec": {
   "display_name": "LMD",
   "language": "python",
   "name": "python3"
  },
  "language_info": {
   "codemirror_mode": {
    "name": "ipython",
    "version": 3
   },
   "file_extension": ".py",
   "mimetype": "text/x-python",
   "name": "python",
   "nbconvert_exporter": "python",
   "pygments_lexer": "ipython3",
   "version": "3.8.18"
  }
 },
 "nbformat": 4,
 "nbformat_minor": 2
}
