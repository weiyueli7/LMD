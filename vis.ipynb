{
 "cells": [
  {
   "cell_type": "code",
   "execution_count": null,
   "metadata": {},
   "outputs": [],
   "source": [
    "import matplotlib.pyplot as plt\n",
    "import numpy as np\n",
    "import json\n",
    "\n",
    "# Data\n",
    "versions = [f'v0.{i}' for i in [1, 4,7, 10]]\n",
    "data = {}\n",
    "for version in versions:\n",
    "    cur_version_data = json.load(open(f'results/spatial_results_{version}.json'))\n",
    "    data[version] = cur_version_data\n",
    "\n",
    "overall_spatial_accuracy = [d['overall'] for d in data.values()]\n",
    "objects_count = np.arange(3, 10)\n",
    "\n",
    "# Spatial Accuracy for different object counts\n",
    "spatial_accuracy = {\n",
    "    version: [i for i in d.values()][1:]\n",
    "    for version, d in data.items()\n",
    "}\n",
    "\n",
    "fig, ax = plt.subplots(2, 1, figsize=(10, 12))\n",
    "\n",
    "# Overall Spatial Accuracy Bar Plot\n",
    "ax[0].bar(versions, overall_spatial_accuracy, color=['blue', 'green', 'red', 'purple', ])#'black', 'orange', 'yellow', 'pink'])\n",
    "ax[0].set_title('Overall Spatial Accuracy by Version')\n",
    "ax[0].set_ylabel('Spatial Accuracy')\n",
    "ax[0].set_ylim(0.65, 0.8)\n",
    "\n",
    "# Spatial Accuracy by Number of Objects Line Plot\n",
    "colors = ['blue', 'green', 'red', 'purple', ]#'black', 'orange', 'yellow', 'pink']\n",
    "for i, version in enumerate(versions):\n",
    "    # print(version)\n",
    "    ax[1].plot(objects_count, spatial_accuracy[version], '-o', label=version, color=colors[i])\n",
    "\n",
    "ax[1].set_title('Spatial Accuracy for Different Number of Objects')\n",
    "ax[1].set_xlabel('Number of Objects')\n",
    "ax[1].set_ylabel('Spatial Accuracy')\n",
    "ax[1].legend()\n",
    "\n",
    "plt.tight_layout()\n",
    "plt.show()\n"
   ]
  },
  {
   "cell_type": "code",
   "execution_count": null,
   "metadata": {},
   "outputs": [],
   "source": []
  }
 ],
 "metadata": {
  "kernelspec": {
   "display_name": "LMD",
   "language": "python",
   "name": "python3"
  },
  "language_info": {
   "codemirror_mode": {
    "name": "ipython",
    "version": 3
   },
   "file_extension": ".py",
   "mimetype": "text/x-python",
   "name": "python",
   "nbconvert_exporter": "python",
   "pygments_lexer": "ipython3",
   "version": "3.8.18"
  }
 },
 "nbformat": 4,
 "nbformat_minor": 2
}
