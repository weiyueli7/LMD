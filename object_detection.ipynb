{
 "cells": [
  {
   "cell_type": "code",
   "execution_count": null,
   "metadata": {},
   "outputs": [],
   "source": [
    "from ultralytics import YOLO\n",
    "import os"
   ]
  },
  {
   "cell_type": "code",
   "execution_count": null,
   "metadata": {},
   "outputs": [],
   "source": [
    "model = YOLO(\"yolov8m.pt\")"
   ]
  },
  {
   "cell_type": "code",
   "execution_count": null,
   "metadata": {},
   "outputs": [],
   "source": [
    "# directory to detect objects in\n",
    "\n",
    "DIR = \"img_generations/img_generations_templatev0.1_lmd_plus_demo_gpt-4/run0\"\n",
    "for dir in os.listdir(DIR):\n",
    "    if os.path.isdir(os.path.join(DIR, dir)):\n",
    "        for file in os.listdir(os.path.join(DIR, dir)):\n",
    "            if file.endswith(\"4.png\"):\n",
    "                cur_path = os.path.join(DIR, dir, file)\n",
    "                print(cur_path)\n",
    "                results = model.predict(os.path.join(DIR, dir, file), save=True, save_txt=True, project=f\"object_detection/{DIR}\", name=f\"results_{dir}\")"
   ]
  },
  {
   "cell_type": "code",
   "execution_count": null,
   "metadata": {},
   "outputs": [],
   "source": []
  }
 ],
 "metadata": {
  "kernelspec": {
   "display_name": "llm_gd",
   "language": "python",
   "name": "python3"
  },
  "language_info": {
   "codemirror_mode": {
    "name": "ipython",
    "version": 3
   },
   "file_extension": ".py",
   "mimetype": "text/x-python",
   "name": "python",
   "nbconvert_exporter": "python",
   "pygments_lexer": "ipython3",
   "version": "3.8.18"
  }
 },
 "nbformat": 4,
 "nbformat_minor": 2
}
