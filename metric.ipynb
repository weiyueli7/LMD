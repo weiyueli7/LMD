{
 "cells": [
  {
   "cell_type": "code",
   "execution_count": 19,
   "metadata": {},
   "outputs": [],
   "source": [
    "import json\n",
    "\n",
    "file_name = {\"gpt-spatial\": [f\"results/yolov8m_evaluation_result_img_generations_templatev0.{v}_lmd_plus_lmd_spatial_gpt-4_sdxl_0.3.json\" for v in [1, 7]] + \n",
    "                            [f\"results/yolov8m_evaluation_result_img_generations_templatev0.{v}_lmd_plus_lmd_spatial_gpt-3.5_sdxl_0.3.json\" for v in [1, 4]],\n",
    "            \"gpt-numeracy\": [f\"results/yolov8m_evaluation_result_img_generations_templatev0.{v}_lmd_plus_lmd_numeracy_gpt-4_sdxl_0.3.json\" for v in [1, 9]] + \n",
    "                            [f\"results/yolov8m_evaluation_result_img_generations_templatev0.{v}_lmd_plus_lmd_numeracy_gpt-3.5_sdxl_0.3.json\" for v in [1, 4]],\n",
    "            \"gpt-complex\": [f\"results/yolov8m_evaluation_result_img_generations_templatev0.{v}_lmd_plus_lmd_complex_gpt-4_sdxl_0.3.json\" for v in [1, 9]] + \n",
    "                           [f\"results/yolov8m_evaluation_result_img_generations_templatev0.{v}_lmd_plus_lmd_complex_gpt-3.5_sdxl_0.3.json\" for v in [1, 4]],\n",
    "            \"gpt-others\": [\"results/yolov8m_evaluation_result_img_generations_templatev0.7_gligen_lmd_spatial_gpt-4.json\"] +\n",
    "                      [f\"results/yolov8m_evaluation_result_spatial_{v}.json\" for v in [\"sdxl\", \"tokencompose\", \"dalle-3\"]]}\n",
    "\n",
    "results = {\"table1\":[], \"table2\":[], \"table3\":[], \"table4\":[]}\n",
    "\n",
    "def metric1(md, unidet, s2_overlap):\n",
    "    return md * (unidet + 1 - s2_overlap) / 2\n",
    "\n",
    "def metric3(emr, s2_overlap):\n",
    "    return (1 - emr) * (1 - s2_overlap)\n",
    "\n",
    "def main():\n",
    "    for table in [(\"table1\", \"spatial\"), (\"table2\", \"numeracy\"), (\"table3\", \"complex\"), (\"table4\", \"others\")]:\n",
    "        print(table)\n",
    "        if table[1] == \"spatial\":\n",
    "            result = []\n",
    "            for files in file_name['gpt-' + table[1]]:\n",
    "                with open(files, 'r') as f:\n",
    "                    data = json.load(f)\n",
    "                m1 = metric1(data['mean_iou'], data['UniDet'], data[\"mean_iou_stage2\"])\n",
    "                m3 = metric3(data[\"extra_miss_ratio\"], data[\"mean_iou_stage2\"])\n",
    "                result += [(m1+m3)/2]\n",
    "            results[table[0]] = result\n",
    "        if table[1] == \"numeracy\" or table[1] == \"complex\":\n",
    "            result = []\n",
    "            for files in file_name['gpt-' + table[1]]:\n",
    "                with open(files, 'r') as f:\n",
    "                    data = json.load(f)\n",
    "                m3 = metric3(data[\"extra_miss_ratio\"], data[\"mean_iou_stage2\"])\n",
    "                result += [m3]\n",
    "            results[table[0]] = result\n",
    "        if table[1] == \"others\":\n",
    "            result = []\n",
    "            for files in file_name['gpt-' + table[1]]:\n",
    "                with open(files, 'r') as f:\n",
    "                    data = json.load(f)\n",
    "                print(data)\n",
    "                m1 = metric1(data['mean_iou'], data['UniDet'], data[\"mean_iou_stage2\"])\n",
    "                m3 = metric3(data[\"extra_miss_ratio\"], data[\"mean_iou_stage2\"])\n",
    "                result += [(m1+m3)/2]\n",
    "            results[table[0]] = result\n",
    "    print(results)"
   ]
  },
  {
   "cell_type": "code",
   "execution_count": 20,
   "metadata": {},
   "outputs": [
    {
     "name": "stdout",
     "output_type": "stream",
     "text": [
      "('table1', 'spatial')\n",
      "('table2', 'numeracy')\n",
      "('table3', 'complex')\n",
      "('table4', 'others')\n",
      "{'extra_miss_ratio': 0.5966021825396826, 'mean_iou': 0.3136409533989447, 'UniDet': 0.041051587301587304, 'spatial_accuracy': 0.04553075396825397, 'mean_iou_stage2': 0.014746259199892347}\n",
      "{'mean_iou': 0.19695317032966322, 'extra_miss_ratio': 0.5800644841269842, 'spatial_accuracy': 0.062276785714285715, 'UniDet': 0.05852678571428571, 'mean_iou_stage2': 0.03002958750431333}\n",
      "{'mean_iou': 0.0, 'extra_miss_ratio': 0.5884156746031746, 'spatial_accuracy': 0.028027777777777776, 'UniDet': 0.019756944444444445, 'mean_iou_stage2': 0.061223933595328045}\n",
      "{'mean_iou': 0.04619791666690176, 'extra_miss_ratio': 0.30026091269841265, 'spatial_accuracy': 0.18630059523809525, 'UniDet': 0.18182142857142858, 'mean_iou_stage2': 0.012987240621230956}\n",
      "{'table1': [0.40487127449161797, 0.4157786287588494, 0.39963725211259266, 0.4067990501990849], 'table2': [0.05985996491048349, 0.04904515129596914, 0.036585380514771226, 0.06378990955031191], 'table3': [0.368763556202291, 0.4542449397974948, 0.3442651069605478, 0.3110649383388247], 'table4': [0.27919744973774646, 0.2543039587421266, 0.19319275699492613, 0.35882512980444786]}\n"
     ]
    },
    {
     "data": {
      "text/plain": [
       "{'table1': [0.40487127449161797,\n",
       "  0.4157786287588494,\n",
       "  0.39963725211259266,\n",
       "  0.4067990501990849],\n",
       " 'table2': [0.05985996491048349,\n",
       "  0.04904515129596914,\n",
       "  0.036585380514771226,\n",
       "  0.06378990955031191],\n",
       " 'table3': [0.368763556202291,\n",
       "  0.4542449397974948,\n",
       "  0.3442651069605478,\n",
       "  0.3110649383388247],\n",
       " 'table4': [0.27919744973774646,\n",
       "  0.2543039587421266,\n",
       "  0.19319275699492613,\n",
       "  0.35882512980444786]}"
      ]
     },
     "execution_count": 20,
     "metadata": {},
     "output_type": "execute_result"
    }
   ],
   "source": [
    "main()\n",
    "results"
   ]
  },
  {
   "cell_type": "code",
   "execution_count": null,
   "metadata": {},
   "outputs": [],
   "source": []
  }
 ],
 "metadata": {
  "kernelspec": {
   "display_name": "Python 3",
   "language": "python",
   "name": "python3"
  },
  "language_info": {
   "codemirror_mode": {
    "name": "ipython",
    "version": 3
   },
   "file_extension": ".py",
   "mimetype": "text/x-python",
   "name": "python",
   "nbconvert_exporter": "python",
   "pygments_lexer": "ipython3",
   "version": "3.9.13"
  }
 },
 "nbformat": 4,
 "nbformat_minor": 2
}
