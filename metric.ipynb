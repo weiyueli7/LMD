{
 "cells": [
  {
   "cell_type": "code",
   "execution_count": null,
   "metadata": {},
   "outputs": [],
   "source": [
    "import json\n",
    "\n",
    "file_name = {\"gpt-spatial\": [f\"results/yolov8m_evaluation_result_img_generations_templatev0.{v}_lmd_plus_lmd_spatial_gpt-4_sdxl_0.3.json\" for v in [1, 7]] + \n",
    "                            [f\"results/yolov8m_evaluation_result_img_generations_templatev0.{v}_lmd_plus_lmd_spatial_gpt-3.5_sdxl_0.3.json\" for v in [1, 4]],\n",
    "            \"gpt-numeracy\": [f\"results/yolov8m_evaluation_result_img_generations_templatev0.{v}_lmd_plus_lmd_numeracy_gpt-4_sdxl_0.3.json\" for v in [1, 9]] + \n",
    "                            [f\"results/yolov8m_evaluation_result_img_generations_templatev0.{v}_lmd_plus_lmd_numeracy_gpt-3.5_sdxl_0.3.json\" for v in [1, 4]],\n",
    "            \"gpt-complex\": [f\"results/yolov8m_evaluation_result_img_generations_templatev0.{v}_lmd_plus_lmd_complex_gpt-4_sdxl_0.3.json\" for v in [1, 9]] + \n",
    "                           [f\"results/yolov8m_evaluation_result_img_generations_templatev0.{v}_lmd_plus_lmd_complex_gpt-3.5_sdxl_0.3.json\" for v in [1, 4]],\n",
    "            \"gpt-others\": [\"results/yolov8m_evaluation_result_img_generations_templatev0.7_gligen_lmd_spatial_gpt-4.json\"] +\n",
    "                      [f\"results/yolov8m_evaluation_result_spatial_{v}.json\" for v in [\"sdxl\", \"tokencompose\", \"dalle-3\"]]}\n",
    "\n",
    "results = {\"table1\":[], \"table2\":[], \"table3\":[], \"table4\":[]}\n",
    "\n",
    "def metric1(md, unidet, s2_overlap):\n",
    "    return md * (unidet + 1 - s2_overlap) / 2\n",
    "\n",
    "def metric3(emr, s2_overlap):\n",
    "    return (1 - emr) * (1 - s2_overlap)\n",
    "\n",
    "def main():\n",
    "    for table in [(\"table1\", \"spatial\"), (\"table2\", \"numeracy\"), (\"table3\", \"complex\"), (\"table4\", \"others\")]:\n",
    "        print(table)\n",
    "        if table[1] == \"spatial\":\n",
    "            result = []\n",
    "            for files in file_name['gpt-' + table[1]]:\n",
    "                with open(files, 'r') as f:\n",
    "                    data = json.load(f)\n",
    "                m1 = metric1(data['mean_iou'], data['UniDet'], data[\"mean_iou_stage2\"])\n",
    "                m3 = metric3(data[\"extra_miss_ratio\"], data[\"mean_iou_stage2\"])\n",
    "                result += [(m1+m3)/2]\n",
    "            results[table[0]] = result\n",
    "        if table[1] == \"numeracy\" or table[1] == \"complex\":\n",
    "            result = []\n",
    "            for files in file_name['gpt-' + table[1]]:\n",
    "                with open(files, 'r') as f:\n",
    "                    data = json.load(f)\n",
    "                m3 = metric3(data[\"extra_miss_ratio\"], data[\"mean_iou_stage2\"])\n",
    "                result += [m3]\n",
    "            results[table[0]] = result\n",
    "        if table[1] == \"others\":\n",
    "            result = []\n",
    "            for files in file_name['gpt-' + table[1]]:\n",
    "                with open(files, 'r') as f:\n",
    "                    data = json.load(f)\n",
    "                print(data)\n",
    "                m1 = metric1(data['mean_iou'], data['UniDet'], data[\"mean_iou_stage2\"])\n",
    "                m3 = metric3(data[\"extra_miss_ratio\"], data[\"mean_iou_stage2\"])\n",
    "                result += [(m1+m3)/2]\n",
    "            results[table[0]] = result\n",
    "    print(results)"
   ]
  },
  {
   "cell_type": "code",
   "execution_count": null,
   "metadata": {},
   "outputs": [],
   "source": [
    "main()\n",
    "results"
   ]
  },
  {
   "cell_type": "code",
   "execution_count": null,
   "metadata": {},
   "outputs": [],
   "source": []
  }
 ],
 "metadata": {
  "kernelspec": {
   "display_name": "Python 3",
   "language": "python",
   "name": "python3"
  },
  "language_info": {
   "codemirror_mode": {
    "name": "ipython",
    "version": 3
   },
   "file_extension": ".py",
   "mimetype": "text/x-python",
   "name": "python",
   "nbconvert_exporter": "python",
   "pygments_lexer": "ipython3",
   "version": "3.9.13"
  }
 },
 "nbformat": 4,
 "nbformat_minor": 2
}
